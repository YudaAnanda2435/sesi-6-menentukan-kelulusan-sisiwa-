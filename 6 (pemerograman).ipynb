{
 "cells": [
  {
   "cell_type": "code",
   "execution_count": 11,
   "id": "b6ba0800",
   "metadata": {},
   "outputs": [
    {
     "name": "stdout",
     "output_type": "stream",
     "text": [
      "skor anda: 89\n",
      "skor anda adalah: 89\n",
      "Grade anda: B\n",
      "predikat anda: memuaskan\n"
     ]
    }
   ],
   "source": [
    "tahun = int(input(\"skor anda: \"))\n",
    "\n",
    "if tahun >=100 and tahun <=90:\n",
    "    grade = \"A\"\n",
    "    predikat = \"sangat memuaskan\"\n",
    "if tahun >=80 and tahun <=89:\n",
    "    grade = \"B\"\n",
    "    predikat = \"memuaskan\"\n",
    "if tahun >=70 and tahun <=79:\n",
    "    grade = \"C\"\n",
    "    predikat = \"cukup memuaskan\"\n",
    "if tahun >=60 and tahun <=69:\n",
    "    grade = \"D\"\n",
    "    predikat = \"kurang memuaskan\"\n",
    "if tahun >=0 and tahun <=59:\n",
    "    grade  = \"E\"\n",
    "    predikat = \"Tidak Lulus\"\n",
    "else :\n",
    "    print(\"skor anda adalah:\", tahun)\n",
    "    print(\"Grade anda:\", grade)\n",
    "    print(\"predikat anda:\", predikat)"
   ]
  }
 ],
 "metadata": {
  "kernelspec": {
   "display_name": "Python 3 (ipykernel)",
   "language": "python",
   "name": "python3"
  },
  "language_info": {
   "codemirror_mode": {
    "name": "ipython",
    "version": 3
   },
   "file_extension": ".py",
   "mimetype": "text/x-python",
   "name": "python",
   "nbconvert_exporter": "python",
   "pygments_lexer": "ipython3",
   "version": "3.9.12"
  }
 },
 "nbformat": 4,
 "nbformat_minor": 5
}
